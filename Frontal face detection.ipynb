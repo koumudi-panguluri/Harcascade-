{
 "cells": [
  {
   "cell_type": "code",
   "execution_count": 9,
   "metadata": {},
   "outputs": [],
   "source": [
    "import cv2\n",
    "image=cv2.imread('./images/images.jpg')\n",
    "face_classifier=cv2.CascadeClassifier('.\\Haarcascades\\haarcascade_frontalface_default.xml')\n",
    "eye_classifier=cv2.CascadeClassifier('.\\Haarcascades\\haarcascade_eye.xml')\n",
    "gray_image=cv2.cvtColor(image,cv2.COLOR_BGR2GRAY)\n",
    "faces=face_classifier.detectMultiScale(gray_image,1.2,5)\n",
    "if faces is ():\n",
    "    print(\"No Faces\")\n",
    "for (x,y,w,h) in faces:\n",
    "    cv2.rectangle(image,(x,y),(x+w,y+h),(255,0,0),4)\n",
    "    crop_gray=gray_image[y:y+h,x:x+w]\n",
    "    crop_color=image[y:y+h,x:x+w]\n",
    "    eyes=eye_classifier.detectMultiScale(crop_gray)\n",
    "    for (ex,ey,ew,eh) in eyes:\n",
    "        cv2.rectangle(crop_color,(ex,ey),(ex+ew,ey+eh),(0,0,255),3)\n",
    "        cv2.imshow('Face Detection',image)\n",
    "        cv2.waitKey()\n",
    "        cv2.destroyAllWindows()"
   ]
  },
  {
   "cell_type": "code",
   "execution_count": null,
   "metadata": {},
   "outputs": [],
   "source": []
  }
 ],
 "metadata": {
  "kernelspec": {
   "display_name": "Python 3",
   "language": "python",
   "name": "python3"
  },
  "language_info": {
   "codemirror_mode": {
    "name": "ipython",
    "version": 3
   },
   "file_extension": ".py",
   "mimetype": "text/x-python",
   "name": "python",
   "nbconvert_exporter": "python",
   "pygments_lexer": "ipython3",
   "version": "3.6.8"
  }
 },
 "nbformat": 4,
 "nbformat_minor": 2
}
